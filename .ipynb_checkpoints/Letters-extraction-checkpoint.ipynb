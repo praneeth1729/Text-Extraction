{
 "cells": [
  {
   "cell_type": "markdown",
   "metadata": {},
   "source": [
    "# Appending cropped lines"
   ]
  },
  {
   "cell_type": "code",
   "execution_count": 4,
   "metadata": {},
   "outputs": [
    {
     "name": "stdout",
     "output_type": "stream",
     "text": [
      "Enter the name of image file with extension : sudoku.jpg\n"
     ]
    }
   ],
   "source": [
    "import cv2\n",
    "import os\n",
    "import shutil                 #import shutil\n",
    "dir_path = 'lines'            \n",
    "shutil.rmtree(dir_path)       #remove the folder named with lines if already exists.Since,it may contain same files\n",
    "create_lines_folder = 'lines'\n",
    "os.mkdir(create_lines_folder) #creating new folder for appending lines\n",
    "imagefilename = input(\"Enter the name of image file with extension : \") #takes iput from user\n",
    "img = cv2.imread(imagefilename,1)   \n",
    "(h1,w1,a) = img.shape  #shape of an image\n",
    "gray = cv2.cvtColor(img,cv2.COLOR_BGR2GRAY) #cahnging color of image to gray\n",
    "_ , thres = cv2.threshold(gray,0,255,cv2.THRESH_OTSU|cv2.THRESH_BINARY_INV) #thresholding , with binary inverse\n",
    "rect_kernel = cv2.getStructuringElement(cv2.MORPH_RECT,(15,5)) #morphological transormation with large kernel\n",
    "dilation = cv2.dilate(thres,rect_kernel,iterations = 1)  #dilation to get lines\n",
    "#_________________________________________\n",
    "contours , hierarchy = cv2.findContours(dilation, cv2.RETR_EXTERNAL,cv2.CHAIN_APPROX_NONE) #finding lines contours\n",
    "im2 = img.copy()\n",
    "ims1 = []\n",
    "d = 0\n",
    "visited = []                         \n",
    "arr = []\n",
    "for cnt in contours:\n",
    "    x,y,w,h = cv2.boundingRect(cnt)                 #drawing boundary rectangle around lines to crop the lines images\n",
    "    cv2.rectangle(im2,(x,y),(x+w,y+h),(0,255,0),1)\n",
    "    \n",
    "    if [x,y,w,h] not in arr and w not in range(w1-5,w1+5) and h not in range(h1-5,h1+5) : #this line is used to remove the largest rectangle ..i.e:- to neglect the original image since,from above contours we also get the orginal iamge cropped with including lines images\n",
    "        roi = img[y:y+h,x:x+w]           #cropping lines with boundary values\n",
    "        ims1.append(roi)                 # appending\n",
    "        arr.append([x,y,w,h])\n",
    "cv2.imshow(\"img\",im2)                            #to show image\n",
    "cv2.waitKey(0)\n",
    "ims1.reverse()       #to get in correct order.....\n",
    "for i in range(0,len(ims1)):\n",
    "    filename = \"lines/line_%d.jpg\"%d             #filename with in lines folder  \n",
    "    cv2.imwrite(filename,ims1[i])                #writing extracted lines images to lines folder\n",
    "    d = d+1\n",
    "        #visited.append(ims1[i])\n",
    "\n",
    "# h = ims[0]\n",
    "# ims2 = cv2.imread('h.png',1)\n",
    "# plt.imshow(cv2.cvtColor(ims2,cv2.COLOR_BGR2RGB))\n",
    "# for i in range(len(ims1)):\n",
    "#     cv2.imshow('image_thresh',ims1[i])\n",
    "#     cv2.waitKey(0)\n",
    "# cv2.imshow('final',im2)\n",
    "# cv2.waitKey(0)\n",
    "\n"
   ]
  },
  {
   "cell_type": "markdown",
   "metadata": {},
   "source": [
    "# Appending words of Every line to words folder"
   ]
  },
  {
   "cell_type": "code",
   "execution_count": 2,
   "metadata": {},
   "outputs": [],
   "source": [
    "#repeating whole process like above for cropped lines images\n",
    "dir_path = 'words'            #words folder\n",
    "shutil.rmtree(dir_path)       #remove the folder named with words if already exists.Since,it may contain some files\n",
    "create_words_folder = 'words'\n",
    "os.mkdir(create_words_folder) #creating new folder for appendig words\n",
    "\n",
    "imws1 = []\n",
    "for i in range(len(ims1)):\n",
    "    d = 0\n",
    "    imwss1 = []\n",
    "    arr = []\n",
    "    imw = ims1[i]\n",
    "    gray1 = cv2.cvtColor(imw,cv2.COLOR_BGR2GRAY)\n",
    "    _ , thres1 = cv2.threshold(gray1,0,255,cv2.THRESH_OTSU|cv2.THRESH_BINARY_INV)\n",
    "    # cv2.imshow('image_thresh',thres1)\n",
    "    # cv2.waitKey(0)\n",
    "    rect_kernel = cv2.getStructuringElement(cv2.MORPH_RECT,(4,2))\n",
    "    dilation1 = cv2.dilate(thres1,rect_kernel,iterations = 1)\n",
    "#     cv2.imshow('dilation',dilation1)\n",
    "#     cv2.waitKey(0)\n",
    "    contours , hierarchy = cv2.findContours(dilation1, cv2.RETR_EXTERNAL,cv2.CHAIN_APPROX_NONE) \n",
    "    imw2 = imw.copy()\n",
    "    #print(imws1)\n",
    "    for cnt in contours:\n",
    "        x,y,w,h = cv2.boundingRect(cnt)\n",
    "        cv2.rectangle(imw2,(x,y),(x+w,y+h),(0,255,0),1)\n",
    "        roi2 = imw[y:y+h,x:x+w]\n",
    "        if [x,y,w,h] not in arr:\n",
    "            imws1.append(roi2)\n",
    "            imwss1.append(roi2)\n",
    "            arr.append([x,y,w,h])\n",
    "    imwss1.reverse()\n",
    "    for j in range(len(imwss1)):\n",
    "        filename = \"words/line_%i\"%i+\"word_%d.jpg\"%j\n",
    "        cv2.imwrite(filename,imwss1[j])\n",
    "    \n",
    "#     cv2.imshow('final23',imw2)\n",
    "#     cv2.waitKey(0)\n",
    "# for i in range(len(imws1)):\n",
    "#     cv2.imshow('final2',imws1[i])\n",
    "#     cv2.waitKey(0)"
   ]
  },
  {
   "cell_type": "markdown",
   "metadata": {},
   "source": [
    "# Appending Letters of Every word to letters folder"
   ]
  },
  {
   "cell_type": "code",
   "execution_count": 3,
   "metadata": {},
   "outputs": [],
   "source": [
    "#repeating whole process from above\n",
    "dir_path = 'letters'            \n",
    "shutil.rmtree(dir_path)       #remove the folder named with letters if already exists.Since,it may contain some files\n",
    "create_letters_folder = 'letters'\n",
    "os.mkdir(create_letters_folder)\n",
    "d = 0\n",
    "for i in range(len(imws1)):\n",
    "    iml = imws1[i]\n",
    "    gray2 = cv2.cvtColor(iml,cv2.COLOR_BGR2GRAY)\n",
    "    _ , thres2 = cv2.threshold(gray2,0,255,cv2.THRESH_OTSU|cv2.THRESH_BINARY_INV)\n",
    "    # cv2.imshow('image_thresh',thres1)\n",
    "    # cv2.waitKey(0)\n",
    "    rect_kernel = cv2.getStructuringElement(cv2.MORPH_RECT,(1,1))\n",
    "    dilation2 = cv2.dilate(thres2,rect_kernel,iterations = 1)\n",
    "#     cv2.imshow('dilation',dilation1)\n",
    "#     cv2.waitKey(0)\n",
    "    contours , hierarchy = cv2.findContours(dilation2, cv2.RETR_EXTERNAL,cv2.CHAIN_APPROX_NONE) \n",
    "    iml2 = iml.copy()\n",
    "    imls1 = []\n",
    "    #print(imws1)\n",
    "    for cnt in contours:\n",
    "        x,y,w,h = cv2.boundingRect(cnt)\n",
    "        cv2.rectangle(iml2,(x,y),(x+w,y+h),(0,255,0),1)\n",
    "        roi3 = iml[y:y+h,x:x+w]\n",
    "        imls1.append(roi3)\n",
    "        filename = \"letters/letter_%d.jpg\"%d\n",
    "        cv2.imwrite(filename,roi3)\n",
    "        d = d+1"
   ]
  },
  {
   "cell_type": "markdown",
   "metadata": {},
   "source": [
    "# One more iteration is done for letters"
   ]
  },
  {
   "cell_type": "markdown",
   "metadata": {},
   "source": [
    "you can use below code to get clear or exact letter image for the images with less quality(this below code is just another iteration)"
   ]
  },
  {
   "cell_type": "code",
   "execution_count": 4,
   "metadata": {},
   "outputs": [],
   "source": [
    "\n",
    "# d = 0\n",
    "# for i in range(len(imls1)):\n",
    "#     iml = imls1[i]\n",
    "#     gray2 = cv2.cvtColor(iml,cv2.COLOR_BGR2GRAY)\n",
    "#     _ , thres2 = cv2.threshold(gray2,0,255,cv2.THRESH_OTSU|cv2.THRESH_BINARY_INV)\n",
    "#     # cv2.imshow('image_thresh',thres1)\n",
    "#     # cv2.waitKey(0)\n",
    "#     rect_kernel = cv2.getStructuringElement(cv2.MORPH_RECT,(1,1))\n",
    "#     dilation2 = cv2.dilate(thres2,rect_kernel,iterations = 1)\n",
    "# #     cv2.imshow('dilation',dilation1)\n",
    "# #     cv2.waitKey(0)\n",
    "#     contours , hierarchy = cv2.findContours(dilation2, cv2.RETR_EXTERNAL,cv2.CHAIN_APPROX_NONE) \n",
    "#     iml2 = iml.copy()\n",
    "#     imlls1 = []\n",
    "#     #print(imws1)\n",
    "#     for cnt in contours:\n",
    "#         x,y,w,h = cv2.boundingRect(cnt)\n",
    "#         cv2.rectangle(iml2,(x,y),(x+w,y+h),(0,255,0),1)\n",
    "#         roi3 = iml[y:y+h,x:x+w]\n",
    "#         imlls1.append(roi3)\n",
    "#         filename = \"letters/letter_%d.jpg\"%d\n",
    "#         cv2.imwrite(filename,roi3)\n",
    "#         d = d+1"
   ]
  },
  {
   "cell_type": "markdown",
   "metadata": {},
   "source": [
    "# Final Output is I have cropped each letter in text image file\n"
   ]
  },
  {
   "cell_type": "markdown",
   "metadata": {},
   "source": [
    "# ------ THE END --------------"
   ]
  },
  {
   "cell_type": "code",
   "execution_count": null,
   "metadata": {},
   "outputs": [],
   "source": []
  }
 ],
 "metadata": {
  "kernelspec": {
   "display_name": "Python 3",
   "language": "python",
   "name": "python3"
  },
  "language_info": {
   "codemirror_mode": {
    "name": "ipython",
    "version": 3
   },
   "file_extension": ".py",
   "mimetype": "text/x-python",
   "name": "python",
   "nbconvert_exporter": "python",
   "pygments_lexer": "ipython3",
   "version": "3.8.5"
  }
 },
 "nbformat": 4,
 "nbformat_minor": 4
}
